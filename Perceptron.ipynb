{
  "nbformat": 4,
  "nbformat_minor": 0,
  "metadata": {
    "colab": {
      "name": "Perceptron.ipynb",
      "provenance": [],
      "authorship_tag": "ABX9TyPLaRkNB0KIQsMs7jn7XNL/",
      "include_colab_link": true
    },
    "kernelspec": {
      "name": "python3",
      "display_name": "Python 3"
    }
  },
  "cells": [
    {
      "cell_type": "markdown",
      "metadata": {
        "id": "view-in-github",
        "colab_type": "text"
      },
      "source": [
        "<a href=\"https://colab.research.google.com/github/LongntLe/CS4780/blob/master/Perceptron.ipynb\" target=\"_parent\"><img src=\"https://colab.research.google.com/assets/colab-badge.svg\" alt=\"Open In Colab\"/></a>"
      ]
    },
    {
      "cell_type": "code",
      "metadata": {
        "id": "TqBBfKMPFov9",
        "colab_type": "code",
        "colab": {}
      },
      "source": [
        "import numpy as np\n",
        "import matplotlib.pyplot as plt"
      ],
      "execution_count": 1,
      "outputs": []
    },
    {
      "cell_type": "code",
      "metadata": {
        "id": "euw4ET109W6K",
        "colab_type": "code",
        "colab": {}
      },
      "source": [
        "def perceptron(X, Y, w, threshold=300):\n",
        "  X = np.array(X)\n",
        "  w = np.array(w)\n",
        "  steps = [w] # hold w values\n",
        "\n",
        "  ctr = 0 # count number of updates\n",
        "  misclassified = 1 # count number of misclassified items\n",
        "\n",
        "  while misclassified > 0:\n",
        "    misclassified = 0\n",
        "\n",
        "    for i in range(len(X)):\n",
        "      if np.sign(np.dot(X[i], w)) != Y[i]:\n",
        "        w = w + Y[i] * X[i]\n",
        "        steps.append(w)\n",
        "\n",
        "        ctr += 1\n",
        "        misclassified += 1\n",
        "        break\n",
        "\n",
        "    if ctr >= threshold:\n",
        "      raise Exception('Cannot converge!')\n",
        "      break\n",
        "\n",
        "  return ctr, w, steps\n",
        "  "
      ],
      "execution_count": 4,
      "outputs": []
    },
    {
      "cell_type": "code",
      "metadata": {
        "id": "VjLUxnklCvHI",
        "colab_type": "code",
        "colab": {
          "base_uri": "https://localhost:8080/",
          "height": 34
        },
        "outputId": "1b2f0a49-c29c-4de3-f2b3-a9b4a1c1cc96"
      },
      "source": [
        "X = [[1, 3], [-1, 4]]\n",
        "Y = [1, -1]\n",
        "w = [0, 0]\n",
        "\n",
        "ctr, w, steps = perceptron (X, Y, w)\n",
        "\n",
        "print ('Converged in {} steps'.format(ctr))"
      ],
      "execution_count": 5,
      "outputs": [
        {
          "output_type": "stream",
          "text": [
            "Converged in 5 steps\n"
          ],
          "name": "stdout"
        }
      ]
    },
    {
      "cell_type": "code",
      "metadata": {
        "id": "YrqCZ9aTDJGN",
        "colab_type": "code",
        "colab": {
          "base_uri": "https://localhost:8080/",
          "height": 119
        },
        "outputId": "12b66f8e-a1ee-485f-c174-cf552d5e11ea"
      },
      "source": [
        "steps"
      ],
      "execution_count": null,
      "outputs": [
        {
          "output_type": "execute_result",
          "data": {
            "text/plain": [
              "[array([0, 0]),\n",
              " array([1, 3]),\n",
              " array([ 2, -1]),\n",
              " array([3, 2]),\n",
              " array([ 4, -2]),\n",
              " array([5, 1])]"
            ]
          },
          "metadata": {
            "tags": []
          },
          "execution_count": 22
        }
      ]
    },
    {
      "cell_type": "markdown",
      "metadata": {
        "id": "3qNd16xIwu78",
        "colab_type": "text"
      },
      "source": [
        "## Train vs Test error\n",
        "\n",
        "We can calculate the train and test by calculating h(x,y) = sign(x^T*w) for both the train and test set.\n",
        "\n",
        "But we also know that the algorithm converges when the train set has no error. So the error rate for the train set is always 0%. Therefore, we only need to assess the error rate for test set."
      ]
    },
    {
      "cell_type": "code",
      "metadata": {
        "id": "TROtHCjtEbuR",
        "colab_type": "code",
        "colab": {}
      },
      "source": [
        ""
      ],
      "execution_count": null,
      "outputs": []
    }
  ]
}