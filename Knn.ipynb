{
  "nbformat": 4,
  "nbformat_minor": 0,
  "metadata": {
    "colab": {
      "name": "Knn.ipynb",
      "provenance": [],
      "authorship_tag": "ABX9TyPKho268wrUdMdRuuPlndkM",
      "include_colab_link": true
    },
    "kernelspec": {
      "name": "python3",
      "display_name": "Python 3"
    }
  },
  "cells": [
    {
      "cell_type": "markdown",
      "metadata": {
        "id": "view-in-github",
        "colab_type": "text"
      },
      "source": [
        "<a href=\"https://colab.research.google.com/github/LongntLe/CS4780/blob/master/Knn.ipynb\" target=\"_parent\"><img src=\"https://colab.research.google.com/assets/colab-badge.svg\" alt=\"Open In Colab\"/></a>"
      ]
    },
    {
      "cell_type": "code",
      "metadata": {
        "id": "FLXXr-HfU3ij",
        "colab_type": "code",
        "colab": {}
      },
      "source": [
        "import matplotlib.pyplot as plt\n",
        "import numpy as np"
      ],
      "execution_count": 1,
      "outputs": []
    },
    {
      "cell_type": "markdown",
      "metadata": {
        "id": "lroWPXn5U9uf",
        "colab_type": "text"
      },
      "source": [
        "## Draw decision boundary"
      ]
    },
    {
      "cell_type": "code",
      "metadata": {
        "id": "Rpu4K9hpU7SI",
        "colab_type": "code",
        "colab": {
          "base_uri": "https://localhost:8080/",
          "height": 265
        },
        "outputId": "9e79c8a1-6a07-48ad-cb82-22ec5f66eb05"
      },
      "source": [
        "# Draw points of interest\n",
        "# positive: (1,2), (1,4), (5,4)\n",
        "# negative: (3,1), (3,2)\n",
        "\n",
        "pos = [(1,2), (1,4), (5,4)]\n",
        "x_pos = [x[0] for x in pos]\n",
        "y_pos = [x[1] for x in pos]\n",
        "\n",
        "neg = [(3,1), (3,2)]\n",
        "x_neg = [x[0] for x in neg]\n",
        "y_neg = [x[1] for x in neg]\n",
        "\n",
        "plt.scatter(x_pos, y_pos)\n",
        "plt.scatter(x_neg, y_neg)\n",
        "plt.show()"
      ],
      "execution_count": 15,
      "outputs": [
        {
          "output_type": "display_data",
          "data": {
            "image/png": "[encoded data removed]",
            "text/plain": [
              "<Figure size 432x288 with 1 Axes>"
            ]
          },
          "metadata": {
            "tags": [],
            "needs_background": "light"
          }
        }
      ]
    },
    {
      "cell_type": "code",
      "metadata": {
        "id": "cHECIY3kfFaL",
        "colab_type": "code",
        "colab": {}
      },
      "source": [
        "x = np.linspace(0, 5.5, 1000)\n",
        "y = np.linspace(0, 5.5, 1000)\n",
        "xx, yy = np.meshgrid(x, y)\n",
        "\n",
        "d = {}\n",
        "for item in pos:\n",
        "  d[item] = 1\n",
        "for item in neg:\n",
        "  d[item] = 0\n",
        "\n",
        "def find_nearest_neighbor(x):\n",
        "  global x_pos, y_pos, x_neg, y_neg, d\n",
        "\n",
        "  all_x = np.array(x_pos + x_neg)\n",
        "  all_y = np.array(y_pos + y_neg)\n",
        "  \n",
        "  idx = np.argmin ((all_x - x[0])**2 + (all_y - x[1])**2) # get index of min distance\n",
        "\n",
        "  return d[(all_x[idx], all_y[idx])]\n",
        "\n",
        "z = []\n",
        "for item in list(zip(xx.ravel(), yy.ravel())): # get nearest_neighbor in meshgrid\n",
        "  z.append(find_nearest_neighbor(item))\n",
        "\n",
        "z = np.array(z)\n",
        "z = z.reshape(xx.shape)"
      ],
      "execution_count": 62,
      "outputs": []
    },
    {
      "cell_type": "code",
      "metadata": {
        "id": "cwev1VJbi4y2",
        "colab_type": "code",
        "colab": {
          "base_uri": "https://localhost:8080/",
          "height": 265
        },
        "outputId": "4cd0d490-b9a8-468f-aeac-e5d16858fcb2"
      },
      "source": [
        "plt.contourf(xx, yy, z, colors = ('red', 'blue', 'lightgreen', 'gray', 'cyan'), alpha = 0.6)\n",
        "plt.scatter(x_pos, y_pos, c = 'green')\n",
        "plt.scatter(x_neg, y_neg, c = 'black')\n",
        "plt.show()"
      ],
      "execution_count": 71,
      "outputs": [
        {
          "output_type": "display_data",
          "data": {
            "image/png": "[encoded data removed]",
            "text/plain": [
              "<Figure size 432x288 with 1 Axes>"
            ]
          },
          "metadata": {
            "tags": [],
            "needs_background": "light"
          }
        }
      ]
    },
    {
      "cell_type": "code",
      "metadata": {
        "id": "vT96Dn8Hp25S",
        "colab_type": "code",
        "colab": {
          "base_uri": "https://localhost:8080/",
          "height": 265
        },
        "outputId": "9e90a228-ed24-42fb-8cc2-3b8a8f09e356"
      },
      "source": [
        "plt.contour(xx, yy, z, alpha = 0.6)\n",
        "plt.scatter(x_pos, y_pos)\n",
        "plt.scatter(x_neg, y_neg)\n",
        "plt.show()"
      ],
      "execution_count": 73,
      "outputs": [
        {
          "output_type": "display_data",
          "data": {
            "image/png": "[encoded data removed]",
            "text/plain": [
              "<Figure size 432x288 with 1 Axes>"
            ]
          },
          "metadata": {
            "tags": [],
            "needs_background": "light"
          }
        }
      ]
    },
    {
      "cell_type": "markdown",
      "metadata": {
        "id": "md8KqGQRp_Lm",
        "colab_type": "text"
      },
      "source": [
        "## Rescaling\n",
        "\n",
        "* positive: (100, 2), (100, 4), (500, 4)\n",
        "* negative: (300, 1), (300, 2)\n",
        "\n",
        "(500, 1) to (500, 4) is closer than (500, 1) to (300, 2) so positive.\n",
        "\n",
        "Problem: one feature might dominate in multi-feature classification.\n",
        "\n",
        "Solution: Rescale all features to [0,1]"
      ]
    },
    {
      "cell_type": "code",
      "metadata": {
        "id": "Y0cl1Il3VwR4",
        "colab_type": "code",
        "colab": {
          "base_uri": "https://localhost:8080/",
          "height": 297
        },
        "outputId": "cde1a384-29ce-48eb-93a4-5901889f7199"
      },
      "source": [
        "# positive: (100, 2), (100, 4), (500, 4)\n",
        "# negative: (300, 1), (300, 2)\n",
        "\n",
        "pos = [(100,2), (100,4), (500,4)]\n",
        "x_pos = [x[0] for x in pos]\n",
        "y_pos = [x[1] for x in pos]\n",
        "\n",
        "neg = [(300,1), (300,2)]\n",
        "x_neg = [x[0] for x in neg]\n",
        "y_neg = [x[1] for x in neg]\n",
        "\n",
        "# rescale\n",
        "def rescale(arr, mn, mx):\n",
        "  return list((np.array(arr)-mn)/ (mx-mn))\n",
        "\n",
        "rscl_x_pos = rescale(x_pos, min(x_pos+x_neg), max(x_pos+x_neg))\n",
        "rscl_y_pos = rescale(y_pos, min(y_pos+y_neg), max(y_pos+y_neg))\n",
        "rscl_x_neg = rescale(x_neg, min(x_pos+x_neg), max(x_pos+x_neg))\n",
        "rscl_y_neg = rescale(y_neg, min(y_pos+y_neg), max(y_pos+y_neg))\n",
        "\n",
        "plt.subplot(1, 2, 1)\n",
        "plt.scatter(x_pos, y_pos)\n",
        "plt.scatter(x_neg, y_neg)\n",
        "plt.title('Original data points')\n",
        "\n",
        "plt.subplot(1, 2, 2)\n",
        "plt.scatter(rscl_x_pos, rscl_y_pos)\n",
        "plt.scatter(rscl_x_neg, rscl_y_neg)\n",
        "plt.title('After rescaling')\n",
        "\n",
        "plt.tight_layout()\n",
        "plt.show()"
      ],
      "execution_count": 14,
      "outputs": [
        {
          "output_type": "display_data",
          "data": {
            "image/png": "[encoded data removed]",
            "text/plain": [
              "<Figure size 432x288 with 2 Axes>"
            ]
          },
          "metadata": {
            "tags": [],
            "needs_background": "light"
          }
        }
      ]
    },
    {
      "cell_type": "code",
      "metadata": {
        "id": "VJsBY4uzSc74",
        "colab_type": "code",
        "colab": {
          "base_uri": "https://localhost:8080/",
          "height": 34
        },
        "outputId": "226a2fdf-26f4-423f-f787-243a1d9c677f"
      },
      "source": [
        "d = {}\n",
        "for item in zip(rscl_x_pos, rscl_y_pos):\n",
        "  d[item] = 1\n",
        "for item in zip(rscl_x_neg, rscl_y_neg):\n",
        "  d[item] = 0\n",
        "\n",
        "def find_nearest_neighbor(x):\n",
        "  global rscl_x_pos, rscl_y_pos, rscl_x_neg, rscl_y_neg, d\n",
        "\n",
        "  all_x = np.array(rscl_x_pos + rscl_x_neg)\n",
        "  all_y = np.array(rscl_y_pos + rscl_y_neg)\n",
        "  \n",
        "  idx = np.argmin ((all_x - x[0])**2 + (all_y - x[1])**2) # get index of min distance\n",
        "\n",
        "  return d[(all_x[idx], all_y[idx])]\n",
        "\n",
        "# (500, 1) is rescaled to (1, 0)\n",
        "find_nearest_neighbor((1, 0))"
      ],
      "execution_count": 15,
      "outputs": [
        {
          "output_type": "execute_result",
          "data": {
            "text/plain": [
              "0"
            ]
          },
          "metadata": {
            "tags": []
          },
          "execution_count": 15
        }
      ]
    },
    {
      "cell_type": "markdown",
      "metadata": {
        "id": "8x_jatG9eh8I",
        "colab_type": "text"
      },
      "source": [
        "## K-NN Regression\n",
        "\n",
        "Per 2-NN Euclidean distance, (0, 1) is closest to (0, 0) and (1, 1) and thus got labeled (1+2)/2=1.5"
      ]
    },
    {
      "cell_type": "markdown",
      "metadata": {
        "id": "UP3Bo5yKe2Zz",
        "colab_type": "text"
      },
      "source": [
        "## Missing data points\n",
        "\n",
        "We can truncate data points with missing values or extrapolate them depending on the situation."
      ]
    },
    {
      "cell_type": "markdown",
      "metadata": {
        "id": "ZFSco81lfRwq",
        "colab_type": "text"
      },
      "source": [
        "## Training time\n",
        "\n",
        "It takes more time to apply a k-NN classifier. Training = storing points. Applying = calculating distance between the test points and all training points."
      ]
    },
    {
      "cell_type": "markdown",
      "metadata": {
        "id": "TPSrvCAf-ws-",
        "colab_type": "text"
      },
      "source": [
        "## Curse of dimensionality and Image data\n",
        "\n",
        "Image data could be compressed to certain important features only. For example, as seen in the lecture, only a handful of facial features are needed from facial images to classify faces. Therefore, we don't need a large number of features, thus dimensions, for k-NN.\n",
        "\n",
        "Another way we could go about the curse of dimensionality in high-dimension data set, not exclusively for images, is dimensional reduction techniques like PCA."
      ]
    },
    {
      "cell_type": "code",
      "metadata": {
        "id": "GoyuIvJEUHy8",
        "colab_type": "code",
        "colab": {}
      },
      "source": [
        ""
      ],
      "execution_count": null,
      "outputs": []
    }
  ]
}