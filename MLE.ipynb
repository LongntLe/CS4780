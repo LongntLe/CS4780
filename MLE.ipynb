{
  "nbformat": 4,
  "nbformat_minor": 0,
  "metadata": {
    "colab": {
      "name": "MLE.ipynb",
      "provenance": [],
      "authorship_tag": "ABX9TyMqL0D4SnC3SVdZbvxlF2SS",
      "include_colab_link": true
    },
    "kernelspec": {
      "name": "python3",
      "display_name": "Python 3"
    }
  },
  "cells": [
    {
      "cell_type": "markdown",
      "metadata": {
        "id": "view-in-github",
        "colab_type": "text"
      },
      "source": [
        "<a href=\"https://colab.research.google.com/github/LongntLe/CS4780/blob/master/MLE.ipynb\" target=\"_parent\"><img src=\"https://colab.research.google.com/assets/colab-badge.svg\" alt=\"Open In Colab\"/></a>"
      ]
    },
    {
      "cell_type": "markdown",
      "metadata": {
        "id": "AzqPb_QVS8gC",
        "colab_type": "text"
      },
      "source": [
        "$P(X | \\mu) = \\frac{1} {\\sqrt{2\\pi)^d}} \\exp {-\\frac {1}{2} (\\vec{x} - \\vec{u})^T(\\vec{x} - \\vec{u})} $\n",
        "\n",
        "$P(D| \\mu) = \\prod P(X | \\mu)  $\n",
        "\n",
        "$          = \\const \\times \\prod \\exp {-\\frac {1}{2} (\\vec{x_i} - \\vec{u})^T(\\vec{x_i} - \\vec{u})} $\n",
        "\n",
        "\n",
        "Therefore, \n",
        "\n",
        "$ \\log P(D| \\mu) = \\const - \\sum (-1/2 \\times (\\vec{x_i} - \\vec{u})^T(\\vec{x_i} - \\vec{u}))  $\n",
        "\n",
        "\n",
        "Take first derivative over $\\vec{u}$:\n",
        "\n",
        "$ \\ log P(D| \\mu )' = \\const + \\sum (\\vec{x_i} - \\vec{u}) $\n",
        "\n",
        "\n",
        "Thus, optimum $\\vec{u}$ is:\n",
        "\n",
        "$ \\vec{u} = \\frac{\\sum \\vec{x_i}}{ N}$\n",
        "\n",
        "with $N$ being the number of data points $x_i$.\n",
        "\n",
        "This optimum is the maximizer since the second derivative is negative:\n",
        "\n",
        "$\\ log P(D| \\mu )'' = - NI$\n",
        "\n",
        "where $I$ is the identity matrix."
      ]
    },
    {
      "cell_type": "code",
      "metadata": {
        "id": "zI7pl64hVHgB",
        "colab_type": "code",
        "colab": {}
      },
      "source": [
        ""
      ],
      "execution_count": null,
      "outputs": []
    }
  ]
}